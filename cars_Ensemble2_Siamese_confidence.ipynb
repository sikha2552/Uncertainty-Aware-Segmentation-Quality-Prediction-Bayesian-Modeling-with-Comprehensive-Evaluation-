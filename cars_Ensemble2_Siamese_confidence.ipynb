{
 "cells": [
  {
   "cell_type": "markdown",
   "metadata": {
    "id": "eajGSq6AJhhQ"
   },
   "source": [
    "# Three subnetwork model for Segmentation Quality prediction - Skin Lesion Dataset"
   ]
  },
  {
   "cell_type": "markdown",
   "metadata": {
    "id": "OGqqPZAEmhFT"
   },
   "source": [
    "## Load and Preprocess data"
   ]
  },
  {
   "cell_type": "code",
   "execution_count": 1,
   "metadata": {
    "id": "E4lZxtcYfris"
   },
   "outputs": [
    {
     "data": {
      "text/plain": [
       "'/home/invited/Desktop/CARS_2024'"
      ]
     },
     "execution_count": 1,
     "metadata": {},
     "output_type": "execute_result"
    }
   ],
   "source": [
    "#Check the current working directory\n",
    "import os\n",
    "os.getcwd()\n",
    "#To changr the current working directory: os.chdir('[pa"
   ]
  },
  {
   "cell_type": "code",
   "execution_count": 1,
   "metadata": {
    "executionInfo": {
     "elapsed": 407,
     "status": "ok",
     "timestamp": 1699612779597,
     "user": {
      "displayName": "SIKHA OKKATH KRISHNANUNNI",
      "userId": "04435281155437892698"
     },
     "user_tz": -60
    },
    "id": "Qeg0FXi7fg4x"
   },
   "outputs": [],
   "source": [
    "# Preprocess the input images to the sub-branches\n",
    "def load_and_preprocess_seg_map(seg_map_path):\n",
    "    # Load the segmentation map from the provided path\n",
    "    seg_map = cv2.imread(seg_map_path, cv2.IMREAD_GRAYSCALE)\n",
    "\n",
    "    target_size = (300, 300)  # Adjust to desired size\n",
    "    seg_map = cv2.resize(seg_map, target_size)\n",
    "    # Ensure that the data type is appropriate (e.g., float32)\n",
    "    seg_map = seg_map.astype(np.float32)\n",
    "    seg_map=seg_map/255.0\n",
    "    # Return the preprocessed segmentation map\n",
    "    return seg_map\n",
    "\n",
    "def load_and_preprocess_uncertainty_map(uncertainity_map_path):\n",
    "    # Load the segmentation map from the provided path\n",
    "    uncertainity_map = cv2.imread(uncertainity_map_path, cv2.IMREAD_GRAYSCALE)\n",
    "    target_size = (300, 300)  # Adjust to  desired size\n",
    "    uncertainity_map = cv2.resize(uncertainity_map, target_size)\n",
    "    uncertainity_map= uncertainity_map.astype(np.float32)\n",
    "    uncertainity_map= uncertainity_map/255.0\n",
    "    # Return the preprocessed segmentation map\n",
    "    return uncertainity_map\n",
    "\n",
    "def load_and_preprocess_original_image(original_image_path):\n",
    "    # Load the segmentation map from the provided path\n",
    "    original_image= cv2.imread(original_image_path, cv2.IMREAD_GRAYSCALE)\n",
    "    target_size = (300, 300)  # Adjust to  desired size\n",
    "    original_image = cv2.resize(original_image, target_size)\n",
    "    original_image= original_image.astype(np.float32)\n",
    "    original_image= original_image/255.0\n",
    "    # Return the preprocessed segmentation map\n",
    "    return original_image"
   ]
  },
  {
   "cell_type": "code",
   "execution_count": null,
   "metadata": {
    "executionInfo": {
     "elapsed": 79468,
     "status": "ok",
     "timestamp": 1699612880443,
     "user": {
      "displayName": "SIKHA OKKATH KRISHNANUNNI",
      "userId": "04435281155437892698"
     },
     "user_tz": -60
    },
    "id": "NvcQ9gCfdzpj"
   },
   "outputs": [
    {
     "name": "stderr",
     "output_type": "stream",
     "text": [
      "2023-12-13 15:30:27.090820: I tensorflow/core/util/port.cc:111] oneDNN custom operations are on. You may see slightly different numerical results due to floating-point round-off errors from different computation orders. To turn them off, set the environment variable `TF_ENABLE_ONEDNN_OPTS=0`.\n",
      "2023-12-13 15:30:27.114980: E tensorflow/compiler/xla/stream_executor/cuda/cuda_dnn.cc:9342] Unable to register cuDNN factory: Attempting to register factory for plugin cuDNN when one has already been registered\n",
      "2023-12-13 15:30:27.115001: E tensorflow/compiler/xla/stream_executor/cuda/cuda_fft.cc:609] Unable to register cuFFT factory: Attempting to register factory for plugin cuFFT when one has already been registered\n",
      "2023-12-13 15:30:27.115018: E tensorflow/compiler/xla/stream_executor/cuda/cuda_blas.cc:1518] Unable to register cuBLAS factory: Attempting to register factory for plugin cuBLAS when one has already been registered\n",
      "2023-12-13 15:30:27.120169: I tensorflow/core/platform/cpu_feature_guard.cc:182] This TensorFlow binary is optimized to use available CPU instructions in performance-critical operations.\n",
      "To enable the following instructions: AVX2 AVX512F AVX512_VNNI FMA, in other operations, rebuild TensorFlow with the appropriate compiler flags.\n"
     ]
    }
   ],
   "source": [
    "import cv2\n",
    "import os\n",
    "import numpy as np\n",
    "from keras.models import load_model\n",
    "from sklearn.model_selection import train_test_split\n",
    "import pandas as pd  # Import the pandas library\n",
    "\n",
    "# Step 1: Load and Preprocess Data\n",
    "original_image_dir= '/home/invited/Desktop/ISBI2024/Val/images2'\n",
    "seg_maps_dir = '/home/invited/Desktop/ISBI2024/ensemble/predictions/val/prediction_segmentation_0.2'\n",
    "uncertainty_maps_dir = '/home/invited/Desktop/ISBI2024/ensemble/val/confidence'\n",
    "\n",
    "# List files in the directories\n",
    "original_image_files= os.listdir(original_image_dir)\n",
    "seg_map_files = os.listdir(seg_maps_dir)\n",
    "uncertainty_map_files = os.listdir(uncertainty_maps_dir)\n",
    "# Load Dice coefficients from the Excel file\n",
    "dice_coefficients_df = pd.read_excel('/home/invited/Desktop/ISBI2024/ensemble/val_dice_scores.xlsx')  # Adjust the path as needed\n",
    "\n",
    "# Sort the files to ensure they match\n",
    "original_image_files.sort()\n",
    "seg_map_files.sort()\n",
    "uncertainty_map_files.sort()\n",
    "\n",
    "# Initialize empty lists to store data\n",
    "X_original_image=[]\n",
    "X_seg_maps = []\n",
    "X_uncertainty_maps = []\n",
    "y_dice_coefficients = []\n",
    "\n",
    "\n",
    "# Assuming the filenames are in the first column (index 0) of the Excel file\n",
    "image_names = dice_coefficients_df.iloc[:, 0].tolist()  # Extract the filenames as a list\n",
    "dice_scores = dice_coefficients_df.iloc[:, 1].tolist()  # Extract the Dice scores as a list\n",
    "\n",
    "# Create a dictionary to map filenames to Dice coefficients\n",
    "dice_coefficient_dict = dict(zip(image_names, dice_scores))\n",
    "\n",
    "# Processing the pairs of segmentation maps and uncertainty maps\n",
    "for image_file,seg_file, uncertainty_file in zip(original_image_files,seg_map_files, uncertainty_map_files):\n",
    "    # Load and preprocess original images, segmentation map and uncertainty map\n",
    "    \n",
    "    seg_map = load_and_preprocess_seg_map(os.path.join(seg_maps_dir, seg_file))\n",
    "    uncertainty_map = load_and_preprocess_uncertainty_map(os.path.join(uncertainty_maps_dir, uncertainty_file))\n",
    "    original_image=load_and_preprocess_original_image(os.path.join(original_image_dir,image_file))\n",
    "    # Extract Dice coefficient for this pair using the dictionary\n",
    "    dice_coefficient = dice_coefficient_dict.get(seg_file, 0.0)  # Default to 0.0 if not found\n",
    "    #print(seg_file,uncertainty_file,dice_coefficient)\n",
    "    # Append data to the lists\n",
    "    X_original_image.append(original_image)\n",
    "    X_seg_maps.append(seg_map)\n",
    "    X_uncertainty_maps.append(uncertainty_map)\n",
    "    y_dice_coefficients.append(dice_coefficient)\n",
    "\n",
    "# Convert lists to numpy arrays\n",
    "X_original_image= np.array(X_original_image)\n",
    "X_seg_maps = np.array(X_seg_maps)\n",
    "X_uncertainty_maps = np.array(X_uncertainty_maps)\n",
    "y_dice_coefficients = np.array(y_dice_coefficients)\n",
    "\n",
    "# Split data into training and validation sets\n",
    "X_train_original,X_val_original,X_train_seg, X_val_seg, X_train_uncertainty, X_val_uncertainty, y_train, y_val = train_test_split(\n",
    "    X_original_image,X_seg_maps, X_uncertainty_maps, y_dice_coefficients, test_size=0.2, random_state=42\n",
    ")\n",
    "\n"
   ]
  },
  {
   "cell_type": "markdown",
   "metadata": {
    "id": "opvYWfIwTBI0"
   },
   "source": [
    "# Three input Model Definition"
   ]
  },
  {
   "cell_type": "code",
   "execution_count": 2,
   "metadata": {
    "colab": {
     "base_uri": "https://localhost:8080/"
    },
    "executionInfo": {
     "elapsed": 857,
     "status": "ok",
     "timestamp": 1699612980680,
     "user": {
      "displayName": "SIKHA OKKATH KRISHNANUNNI",
      "userId": "04435281155437892698"
     },
     "user_tz": -60
    },
    "id": "EiKHgeLGdHQi",
    "outputId": "6a758cd2-2b54-4869-9535-b69f34e1e2de"
   },
   "outputs": [
    {
     "name": "stderr",
     "output_type": "stream",
     "text": [
      "2023-12-13 15:30:41.132758: I tensorflow/core/util/port.cc:111] oneDNN custom operations are on. You may see slightly different numerical results due to floating-point round-off errors from different computation orders. To turn them off, set the environment variable `TF_ENABLE_ONEDNN_OPTS=0`.\n",
      "2023-12-13 15:30:41.156784: E tensorflow/compiler/xla/stream_executor/cuda/cuda_dnn.cc:9342] Unable to register cuDNN factory: Attempting to register factory for plugin cuDNN when one has already been registered\n",
      "2023-12-13 15:30:41.156802: E tensorflow/compiler/xla/stream_executor/cuda/cuda_fft.cc:609] Unable to register cuFFT factory: Attempting to register factory for plugin cuFFT when one has already been registered\n",
      "2023-12-13 15:30:41.156823: E tensorflow/compiler/xla/stream_executor/cuda/cuda_blas.cc:1518] Unable to register cuBLAS factory: Attempting to register factory for plugin cuBLAS when one has already been registered\n",
      "2023-12-13 15:30:41.161704: I tensorflow/core/platform/cpu_feature_guard.cc:182] This TensorFlow binary is optimized to use available CPU instructions in performance-critical operations.\n",
      "To enable the following instructions: AVX2 AVX512F AVX512_VNNI FMA, in other operations, rebuild TensorFlow with the appropriate compiler flags.\n",
      "2023-12-13 15:30:42.335131: I tensorflow/compiler/xla/stream_executor/cuda/cuda_gpu_executor.cc:894] successful NUMA node read from SysFS had negative value (-1), but there must be at least one NUMA node, so returning NUMA node zero. See more at https://github.com/torvalds/linux/blob/v6.0/Documentation/ABI/testing/sysfs-bus-pci#L344-L355\n",
      "2023-12-13 15:30:42.356083: I tensorflow/compiler/xla/stream_executor/cuda/cuda_gpu_executor.cc:894] successful NUMA node read from SysFS had negative value (-1), but there must be at least one NUMA node, so returning NUMA node zero. See more at https://github.com/torvalds/linux/blob/v6.0/Documentation/ABI/testing/sysfs-bus-pci#L344-L355\n",
      "2023-12-13 15:30:42.356187: I tensorflow/compiler/xla/stream_executor/cuda/cuda_gpu_executor.cc:894] successful NUMA node read from SysFS had negative value (-1), but there must be at least one NUMA node, so returning NUMA node zero. See more at https://github.com/torvalds/linux/blob/v6.0/Documentation/ABI/testing/sysfs-bus-pci#L344-L355\n",
      "2023-12-13 15:30:42.357325: I tensorflow/compiler/xla/stream_executor/cuda/cuda_gpu_executor.cc:894] successful NUMA node read from SysFS had negative value (-1), but there must be at least one NUMA node, so returning NUMA node zero. See more at https://github.com/torvalds/linux/blob/v6.0/Documentation/ABI/testing/sysfs-bus-pci#L344-L355\n"
     ]
    },
    {
     "name": "stdout",
     "output_type": "stream",
     "text": [
      "Model: \"model\"\n",
      "__________________________________________________________________________________________________\n",
      " Layer (type)                Output Shape                 Param #   Connected to                  \n",
      "==================================================================================================\n",
      " originalimage_input (Input  [(None, 300, 300, 1)]        0         []                            \n",
      " Layer)                                                                                           \n",
      "                                                                                                  \n",
      " uncertainty_input (InputLa  [(None, 300, 300, 1)]        0         []                            \n",
      " yer)                                                                                             \n",
      "                                                                                                  \n",
      " segmentation_input (InputL  [(None, 300, 300, 1)]        0         []                            \n",
      " ayer)                                                                                            \n",
      "                                                                                                  \n",
      " conv2d (Conv2D)             (None, 298, 298, 64)         640       ['originalimage_input[0][0]'] \n",
      "                                                                                                  \n",
      " conv2d_5 (Conv2D)           (None, 298, 298, 64)         640       ['uncertainty_input[0][0]']   \n",
      "                                                                                                  \n",
      " conv2d_10 (Conv2D)          (None, 298, 298, 64)         640       ['segmentation_input[0][0]']  \n",
      "                                                                                                  \n",
      " max_pooling2d (MaxPooling2  (None, 149, 149, 64)         0         ['conv2d[0][0]']              \n",
      " D)                                                                                               \n",
      "                                                                                                  \n",
      " max_pooling2d_4 (MaxPoolin  (None, 149, 149, 64)         0         ['conv2d_5[0][0]']            \n",
      " g2D)                                                                                             \n",
      "                                                                                                  \n",
      " max_pooling2d_8 (MaxPoolin  (None, 149, 149, 64)         0         ['conv2d_10[0][0]']           \n",
      " g2D)                                                                                             \n",
      "                                                                                                  \n",
      " conv2d_1 (Conv2D)           (None, 147, 147, 64)         36928     ['max_pooling2d[0][0]']       \n",
      "                                                                                                  \n",
      " conv2d_6 (Conv2D)           (None, 147, 147, 64)         36928     ['max_pooling2d_4[0][0]']     \n",
      "                                                                                                  \n",
      " conv2d_11 (Conv2D)          (None, 147, 147, 64)         36928     ['max_pooling2d_8[0][0]']     \n",
      "                                                                                                  \n",
      " max_pooling2d_1 (MaxPoolin  (None, 73, 73, 64)           0         ['conv2d_1[0][0]']            \n",
      " g2D)                                                                                             \n",
      "                                                                                                  \n",
      " max_pooling2d_5 (MaxPoolin  (None, 73, 73, 64)           0         ['conv2d_6[0][0]']            \n",
      " g2D)                                                                                             \n",
      "                                                                                                  \n",
      " max_pooling2d_9 (MaxPoolin  (None, 73, 73, 64)           0         ['conv2d_11[0][0]']           \n",
      " g2D)                                                                                             \n",
      "                                                                                                  \n",
      " conv2d_2 (Conv2D)           (None, 71, 71, 32)           18464     ['max_pooling2d_1[0][0]']     \n",
      "                                                                                                  \n",
      " conv2d_7 (Conv2D)           (None, 71, 71, 32)           18464     ['max_pooling2d_5[0][0]']     \n",
      "                                                                                                  \n",
      " conv2d_12 (Conv2D)          (None, 71, 71, 32)           18464     ['max_pooling2d_9[0][0]']     \n",
      "                                                                                                  \n",
      " max_pooling2d_2 (MaxPoolin  (None, 35, 35, 32)           0         ['conv2d_2[0][0]']            \n",
      " g2D)                                                                                             \n",
      "                                                                                                  \n",
      " max_pooling2d_6 (MaxPoolin  (None, 35, 35, 32)           0         ['conv2d_7[0][0]']            \n",
      " g2D)                                                                                             \n",
      "                                                                                                  \n",
      " max_pooling2d_10 (MaxPooli  (None, 35, 35, 32)           0         ['conv2d_12[0][0]']           \n",
      " ng2D)                                                                                            \n",
      "                                                                                                  \n",
      " conv2d_3 (Conv2D)           (None, 33, 33, 32)           9248      ['max_pooling2d_2[0][0]']     \n",
      "                                                                                                  \n",
      " conv2d_8 (Conv2D)           (None, 33, 33, 32)           9248      ['max_pooling2d_6[0][0]']     \n",
      "                                                                                                  \n",
      " conv2d_13 (Conv2D)          (None, 33, 33, 32)           9248      ['max_pooling2d_10[0][0]']    \n",
      "                                                                                                  \n",
      " max_pooling2d_3 (MaxPoolin  (None, 16, 16, 32)           0         ['conv2d_3[0][0]']            \n",
      " g2D)                                                                                             \n",
      "                                                                                                  \n",
      " max_pooling2d_7 (MaxPoolin  (None, 16, 16, 32)           0         ['conv2d_8[0][0]']            \n",
      " g2D)                                                                                             \n",
      "                                                                                                  \n",
      " max_pooling2d_11 (MaxPooli  (None, 16, 16, 32)           0         ['conv2d_13[0][0]']           \n",
      " ng2D)                                                                                            \n",
      "                                                                                                  \n",
      " conv2d_4 (Conv2D)           (None, 14, 14, 16)           4624      ['max_pooling2d_3[0][0]']     \n",
      "                                                                                                  \n",
      " conv2d_9 (Conv2D)           (None, 14, 14, 16)           4624      ['max_pooling2d_7[0][0]']     \n",
      "                                                                                                  \n",
      " conv2d_14 (Conv2D)          (None, 14, 14, 16)           4624      ['max_pooling2d_11[0][0]']    \n",
      "                                                                                                  \n",
      " concatenate (Concatenate)   (None, 14, 14, 48)           0         ['conv2d_4[0][0]',            \n",
      "                                                                     'conv2d_9[0][0]',            \n",
      "                                                                     'conv2d_14[0][0]']           \n",
      "                                                                                                  \n",
      " flatten (Flatten)           (None, 9408)                 0         ['concatenate[0][0]']         \n"
     ]
    },
    {
     "name": "stdout",
     "output_type": "stream",
     "text": [
      "                                                                                                  \n",
      " dense (Dense)               (None, 128)                  1204352   ['flatten[0][0]']             \n",
      "                                                                                                  \n",
      " dense_1 (Dense)             (None, 128)                  16512     ['dense[0][0]']               \n",
      "                                                                                                  \n",
      " output (Dense)              (None, 1)                    129       ['dense_1[0][0]']             \n",
      "                                                                                                  \n",
      "==================================================================================================\n",
      "Total params: 1430705 (5.46 MB)\n",
      "Trainable params: 1430705 (5.46 MB)\n",
      "Non-trainable params: 0 (0.00 Byte)\n",
      "__________________________________________________________________________________________________\n"
     ]
    },
    {
     "name": "stderr",
     "output_type": "stream",
     "text": [
      "2023-12-13 15:30:42.357426: I tensorflow/compiler/xla/stream_executor/cuda/cuda_gpu_executor.cc:894] successful NUMA node read from SysFS had negative value (-1), but there must be at least one NUMA node, so returning NUMA node zero. See more at https://github.com/torvalds/linux/blob/v6.0/Documentation/ABI/testing/sysfs-bus-pci#L344-L355\n",
      "2023-12-13 15:30:42.357488: I tensorflow/compiler/xla/stream_executor/cuda/cuda_gpu_executor.cc:894] successful NUMA node read from SysFS had negative value (-1), but there must be at least one NUMA node, so returning NUMA node zero. See more at https://github.com/torvalds/linux/blob/v6.0/Documentation/ABI/testing/sysfs-bus-pci#L344-L355\n",
      "2023-12-13 15:30:42.714016: I tensorflow/compiler/xla/stream_executor/cuda/cuda_gpu_executor.cc:894] successful NUMA node read from SysFS had negative value (-1), but there must be at least one NUMA node, so returning NUMA node zero. See more at https://github.com/torvalds/linux/blob/v6.0/Documentation/ABI/testing/sysfs-bus-pci#L344-L355\n",
      "2023-12-13 15:30:42.714122: I tensorflow/compiler/xla/stream_executor/cuda/cuda_gpu_executor.cc:894] successful NUMA node read from SysFS had negative value (-1), but there must be at least one NUMA node, so returning NUMA node zero. See more at https://github.com/torvalds/linux/blob/v6.0/Documentation/ABI/testing/sysfs-bus-pci#L344-L355\n",
      "2023-12-13 15:30:42.714191: I tensorflow/compiler/xla/stream_executor/cuda/cuda_gpu_executor.cc:894] successful NUMA node read from SysFS had negative value (-1), but there must be at least one NUMA node, so returning NUMA node zero. See more at https://github.com/torvalds/linux/blob/v6.0/Documentation/ABI/testing/sysfs-bus-pci#L344-L355\n",
      "2023-12-13 15:30:42.714246: I tensorflow/core/common_runtime/gpu/gpu_device.cc:1886] Created device /job:localhost/replica:0/task:0/device:GPU:0 with 22265 MB memory:  -> device: 0, name: NVIDIA GeForce RTX 3090, pci bus id: 0000:01:00.0, compute capability: 8.6\n"
     ]
    }
   ],
   "source": [
    "from keras.src.layers.pooling.max_pooling2d import MaxPool2D\n",
    "from keras.layers import Input, Conv2D, Flatten, Dense, concatenate\n",
    "from keras.models import Model\n",
    "import numpy as np\n",
    "from tensorflow.keras.layers import Dropout\n",
    "\n",
    "\n",
    "height=300\n",
    "width=300\n",
    "channels=1\n",
    "\n",
    "# Define the input shape for segmentation maps and uncertainty maps\n",
    "input_shape = (height, width, channels)  # Adjust these dimensions based on the data\n",
    "\n",
    "# Create Siamese twin branches\n",
    "original_input= Input(shape=input_shape, name='originalimage_input')\n",
    "segmentation_input = Input(shape=input_shape, name='segmentation_input')\n",
    "uncertainty_input = Input(shape=input_shape, name='uncertainty_input')\n",
    "\n",
    "# Shared Convolutional block 1\n",
    "conv1 = Conv2D(64, (3, 3), activation='relu')(original_input)\n",
    "conv1=MaxPool2D(pool_size=(2, 2))(conv1)\n",
    "conv1=Conv2D(64,(3,3),activation='relu')(conv1)\n",
    "conv1=MaxPool2D(pool_size=(2, 2))(conv1)\n",
    "conv1=Conv2D(32,(3,3),activation='relu')(conv1)\n",
    "conv1=MaxPool2D(pool_size=(2, 2))(conv1)\n",
    "conv1=Conv2D(32,(3,3),activation='relu')(conv1)\n",
    "conv1=MaxPool2D(pool_size=(2, 2))(conv1)\n",
    "conv1=Conv2D(16,(3,3),activation='relu')(conv1)\n",
    "\n",
    "# Shared Convolutional block 2\n",
    "conv2 = Conv2D(64, (3, 3), activation='relu')(uncertainty_input)\n",
    "conv2=MaxPool2D(pool_size=(2, 2))(conv2)\n",
    "conv2 = Conv2D(64, (3, 3), activation='relu')(conv2)\n",
    "conv2=MaxPool2D(pool_size=(2, 2))(conv2)\n",
    "conv2 = Conv2D(32, (3, 3), activation='relu')(conv2)\n",
    "conv2=MaxPool2D(pool_size=(2, 2))(conv2)\n",
    "conv2 = Conv2D(32, (3, 3), activation='relu')(conv2)\n",
    "conv2=MaxPool2D(pool_size=(2, 2))(conv2)\n",
    "conv2 = Conv2D(16, (3, 3), activation='relu')(conv2)\n",
    "\n",
    "# Shared Convolutional block 3\n",
    "conv3 = Conv2D(64, (3, 3), activation='relu')(segmentation_input)\n",
    "conv3=MaxPool2D(pool_size=(2, 2))(conv3)\n",
    "conv3=Conv2D(64,(3,3),activation='relu')(conv3)\n",
    "conv3=MaxPool2D(pool_size=(2, 2))(conv3)\n",
    "conv3=Conv2D(32,(3,3),activation='relu')(conv3)\n",
    "conv3=MaxPool2D(pool_size=(2, 2))(conv3)\n",
    "conv3=Conv2D(32,(3,3),activation='relu')(conv3)\n",
    "conv3=MaxPool2D(pool_size=(2, 2))(conv3)\n",
    "conv3=Conv2D(16,(3,3),activation='relu')(conv3)\n",
    "\n",
    "# Merge the twin branches\n",
    "merged = concatenate([conv1, conv2,conv3])\n",
    "\n",
    "# Add fully connected layers for regression\n",
    "flatten = Flatten()(merged)\n",
    "dense1 = Dense(128, activation='relu')(flatten)\n",
    "#dense1 = Dense(128, activation='relu')(dense1)\n",
    "dense1 = Dense(128, activation='relu')(dense1)\n",
    "#dropout_rate = 0.5\n",
    "#dropout1 = Dropout(rate=dropout_rate)(dense1)\n",
    "\n",
    "output = Dense(1, activation='linear', name='output')(dense1)  # Linear activation for regression\n",
    "\n",
    "# Create the multi-input prediction model\n",
    "model = Model(inputs=[original_input,segmentation_input, uncertainty_input], outputs=output)\n",
    "\n",
    "# Compile the model with an appropriate loss function (e.g., Mean Squared Error) and optimizer\n",
    "model.compile(loss='MeanSquaredError', optimizer='adam')\n",
    "\n",
    "# Print a summary of the model architecture\n",
    "model.summary()\n"
   ]
  },
  {
   "cell_type": "markdown",
   "metadata": {
    "id": "qAa7MnNoM_U5"
   },
   "source": [
    "# Train the model With data augmentation"
   ]
  },
  {
   "cell_type": "code",
   "execution_count": 6,
   "metadata": {
    "colab": {
     "base_uri": "https://localhost:8080/"
    },
    "executionInfo": {
     "elapsed": 305952,
     "status": "ok",
     "timestamp": 1699609662888,
     "user": {
      "displayName": "SIKHA OKKATH KRISHNANUNNI",
      "userId": "04435281155437892698"
     },
     "user_tz": -60
    },
    "id": "t08oOW26ND46",
    "outputId": "4145eae4-420c-4937-9026-3174e18d72d4"
   },
   "outputs": [
    {
     "name": "stdout",
     "output_type": "stream",
     "text": [
      "Epoch 1/20\n"
     ]
    },
    {
     "name": "stderr",
     "output_type": "stream",
     "text": [
      "2023-12-13 15:23:55.351737: I tensorflow/compiler/xla/stream_executor/cuda/cuda_dnn.cc:442] Loaded cuDNN version 8902\n",
      "2023-12-13 15:23:55.818524: I tensorflow/tsl/platform/default/subprocess.cc:304] Start cannot spawn child process: No such file or directory\n",
      "2023-12-13 15:23:56.531912: I tensorflow/tsl/platform/default/subprocess.cc:304] Start cannot spawn child process: No such file or directory\n",
      "2023-12-13 15:23:56.750336: I tensorflow/compiler/xla/service/service.cc:168] XLA service 0x7f2ce3fd7930 initialized for platform CUDA (this does not guarantee that XLA will be used). Devices:\n",
      "2023-12-13 15:23:56.750351: I tensorflow/compiler/xla/service/service.cc:176]   StreamExecutor device (0): NVIDIA GeForce RTX 3090, Compute Capability 8.6\n",
      "2023-12-13 15:23:56.753301: I tensorflow/compiler/mlir/tensorflow/utils/dump_mlir_util.cc:269] disabling MLIR crash reproducer, set env var `MLIR_CRASH_REPRODUCER_DIRECTORY` to enable.\n",
      "2023-12-13 15:23:56.819210: I ./tensorflow/compiler/jit/device_compiler.h:186] Compiled cluster using XLA!  This line is logged at most once for the lifetime of the process.\n"
     ]
    },
    {
     "name": "stdout",
     "output_type": "stream",
     "text": [
      "101/101 [==============================] - 12s 65ms/step - loss: 0.0627 - val_loss: 0.0413\n",
      "Epoch 2/20\n",
      "101/101 [==============================] - 6s 55ms/step - loss: 0.0168 - val_loss: 0.0151\n",
      "Epoch 3/20\n",
      "101/101 [==============================] - 6s 55ms/step - loss: 0.0137 - val_loss: 0.0135\n",
      "Epoch 4/20\n",
      "101/101 [==============================] - 6s 55ms/step - loss: 0.0130 - val_loss: 0.0131\n",
      "Epoch 5/20\n",
      "101/101 [==============================] - 6s 55ms/step - loss: 0.0092 - val_loss: 0.0125\n",
      "Epoch 6/20\n",
      "101/101 [==============================] - 6s 55ms/step - loss: 0.0092 - val_loss: 0.0114\n",
      "Epoch 7/20\n",
      "101/101 [==============================] - 6s 55ms/step - loss: 0.0078 - val_loss: 0.0136\n",
      "Epoch 8/20\n",
      "101/101 [==============================] - 6s 55ms/step - loss: 0.0065 - val_loss: 0.0153\n",
      "Epoch 9/20\n",
      "101/101 [==============================] - 6s 55ms/step - loss: 0.0068 - val_loss: 0.0117\n",
      "Epoch 10/20\n",
      "101/101 [==============================] - 6s 55ms/step - loss: 0.0051 - val_loss: 0.0114\n",
      "Epoch 11/20\n",
      "101/101 [==============================] - 6s 55ms/step - loss: 0.0038 - val_loss: 0.0113\n",
      "Epoch 12/20\n",
      "101/101 [==============================] - 6s 55ms/step - loss: 0.0029 - val_loss: 0.0236\n",
      "Epoch 13/20\n",
      "101/101 [==============================] - 6s 55ms/step - loss: 0.0043 - val_loss: 0.0128\n",
      "Epoch 14/20\n",
      "101/101 [==============================] - 6s 55ms/step - loss: 0.0028 - val_loss: 0.0112\n",
      "Epoch 15/20\n",
      "101/101 [==============================] - 6s 55ms/step - loss: 0.0019 - val_loss: 0.0127\n",
      "Epoch 16/20\n",
      "101/101 [==============================] - 6s 55ms/step - loss: 0.0017 - val_loss: 0.0130\n",
      "Epoch 17/20\n",
      "101/101 [==============================] - 6s 55ms/step - loss: 0.0014 - val_loss: 0.0134\n",
      "Epoch 18/20\n",
      "101/101 [==============================] - 6s 55ms/step - loss: 9.8530e-04 - val_loss: 0.0119\n",
      "Epoch 19/20\n",
      "101/101 [==============================] - 6s 55ms/step - loss: 0.0010 - val_loss: 0.0146\n",
      "Epoch 20/20\n",
      "101/101 [==============================] - 6s 55ms/step - loss: 0.0010 - val_loss: 0.0133\n"
     ]
    }
   ],
   "source": [
    "\n",
    "import os\n",
    "import numpy as np\n",
    "import pandas as pd\n",
    "from keras.layers import Input, Conv2D, Flatten, Dense, concatenate\n",
    "from keras.models import Model\n",
    "from keras.layers import Dropout\n",
    "from keras.preprocessing.image import ImageDataGenerator\n",
    "from keras.callbacks import EarlyStopping\n",
    "from sklearn.model_selection import train_test_split\n",
    "\n",
    "# Data Augmentation\n",
    "batch_size = 20\n",
    "epochs =20\n",
    "\n",
    "original_datagen = ImageDataGenerator(\n",
    "    rotation_range=20,\n",
    "    width_shift_range=0.1,\n",
    "    height_shift_range=0.1,\n",
    "    horizontal_flip=True,\n",
    "    zoom_range=0.1\n",
    ")\n",
    "\n",
    "seg_datagen = ImageDataGenerator(\n",
    "    rotation_range=20,\n",
    "    width_shift_range=0.1,\n",
    "    height_shift_range=0.1,\n",
    "    horizontal_flip=True,\n",
    "    zoom_range=0.1\n",
    ")\n",
    "\n",
    "uncertainty_datagen = ImageDataGenerator(\n",
    "    rotation_range=20,\n",
    "    width_shift_range=0.1,\n",
    "    height_shift_range=0.1,\n",
    "    horizontal_flip=True,\n",
    "    zoom_range=0.1\n",
    ")\n",
    "X_train_original = X_train_original.reshape( -1,height, width, channels)\n",
    "X_train_seg = X_train_seg.reshape( -1,height, width, channels)\n",
    "X_train_uncertainty = X_train_uncertainty.reshape(-1,height, width, channels)\n",
    "\n",
    "X_val_original = X_val_original.reshape(-1, height, width, channels)\n",
    "X_val_seg = X_val_seg.reshape(-1, height, width, channels)\n",
    "X_val_uncertainty = X_val_uncertainty.reshape(-1, height, width, channels)\n",
    "\n",
    "# Fit the data generators\n",
    "original_datagen.fit(X_train_original)\n",
    "seg_datagen.fit(X_train_seg)\n",
    "uncertainty_datagen.fit(X_train_uncertainty)\n",
    "\n",
    "# Define the EarlyStopping callback\n",
    "early_stopping = EarlyStopping(\n",
    "    monitor='val_loss',\n",
    "    patience=10,\n",
    "    restore_best_weights=True\n",
    ")\n",
    "\n",
    "# Train the model with data augmentation and validation\n",
    "history = model.fit(\n",
    "    [X_train_original ,X_train_seg, X_train_uncertainty],\n",
    "    y_train,\n",
    "    batch_size=batch_size,\n",
    "    epochs=epochs,\n",
    "    validation_data=([X_val_original ,X_val_seg, X_val_uncertainty], y_val),\n",
    "    verbose=1,\n",
    "    callbacks=[early_stopping]\n",
    ")\n"
   ]
  },
  {
   "cell_type": "markdown",
   "metadata": {
    "id": "u82jjhtgcEwH"
   },
   "source": [
    "# Plot the Learning Curve"
   ]
  },
  {
   "cell_type": "code",
   "execution_count": 7,
   "metadata": {
    "colab": {
     "base_uri": "https://localhost:8080/",
     "height": 541
    },
    "executionInfo": {
     "elapsed": 804,
     "status": "ok",
     "timestamp": 1699609695826,
     "user": {
      "displayName": "SIKHA OKKATH KRISHNANUNNI",
      "userId": "04435281155437892698"
     },
     "user_tz": -60
    },
    "id": "6xvvl1pMeLnT",
    "outputId": "8c60b8b4-b8e3-42a2-bb21-acd16d3cf749"
   },
   "outputs": [
    {
     "data": {
      "image/png": "[encoded data removed]",
      "text/plain": [
       "<Figure size 1000x600 with 1 Axes>"
      ]
     },
     "metadata": {},
     "output_type": "display_data"
    }
   ],
   "source": [
    "# Plot the training curve\n",
    "import matplotlib.pyplot as plt\n",
    "# Extract training loss and validation loss from history\n",
    "training_loss = history.history['loss']\n",
    "validation_loss = history.history['val_loss']\n",
    "num_epochs=20\n",
    "# Plot training and validation loss\n",
    "plt.figure(figsize=(10, 6))\n",
    "plt.plot(range(1, num_epochs + 1), training_loss, label='Training Loss', marker='o')\n",
    "plt.plot(range(1, num_epochs + 1), validation_loss, label='Validation Loss', marker='o')\n",
    "plt.title('Training and Validation Loss')\n",
    "plt.xlabel('Epochs')\n",
    "plt.ylabel('Loss')\n",
    "plt.legend()\n",
    "plt.grid(True)\n",
    "plt.show()"
   ]
  },
  {
   "cell_type": "code",
   "execution_count": 8,
   "metadata": {
    "executionInfo": {
     "elapsed": 346,
     "status": "ok",
     "timestamp": 1699609726388,
     "user": {
      "displayName": "SIKHA OKKATH KRISHNANUNNI",
      "userId": "04435281155437892698"
     },
     "user_tz": -60
    },
    "id": "kLtqO2rshEnu"
   },
   "outputs": [],
   "source": [
    "# Optionally, save the trained model weights\n",
    "model.save_weights('Models/ensemble_confidence.h5')\n"
   ]
  },
  {
   "cell_type": "code",
   "execution_count": 3,
   "metadata": {
    "executionInfo": {
     "elapsed": 352,
     "status": "ok",
     "timestamp": 1699612200746,
     "user": {
      "displayName": "SIKHA OKKATH KRISHNANUNNI",
      "userId": "04435281155437892698"
     },
     "user_tz": -60
    },
    "id": "CYQoNkJIB-hk"
   },
   "outputs": [],
   "source": [
    "model.load_weights('Models/ensemble_confidence.h5')"
   ]
  },
  {
   "cell_type": "markdown",
   "metadata": {},
   "source": [
    "## Test the model"
   ]
  },
  {
   "cell_type": "code",
   "execution_count": 4,
   "metadata": {
    "colab": {
     "base_uri": "https://localhost:8080/"
    },
    "executionInfo": {
     "elapsed": 89067,
     "status": "ok",
     "timestamp": 1699612326049,
     "user": {
      "displayName": "SIKHA OKKATH KRISHNANUNNI",
      "userId": "04435281155437892698"
     },
     "user_tz": -60
    },
    "id": "PSA4yJ3s6mGJ",
    "outputId": "e1a79c30-d62c-483e-de07-6720b046f027"
   },
   "outputs": [
    {
     "name": "stderr",
     "output_type": "stream",
     "text": [
      "2023-12-13 15:31:23.948469: I tensorflow/compiler/xla/stream_executor/cuda/cuda_dnn.cc:442] Loaded cuDNN version 8902\n",
      "2023-12-13 15:31:24.422463: I tensorflow/tsl/platform/default/subprocess.cc:304] Start cannot spawn child process: No such file or directory\n"
     ]
    },
    {
     "name": "stdout",
     "output_type": "stream",
     "text": [
      " 6/79 [=>............................] - ETA: 1s"
     ]
    },
    {
     "name": "stderr",
     "output_type": "stream",
     "text": [
      "2023-12-13 15:31:25.371141: I tensorflow/tsl/platform/default/subprocess.cc:304] Start cannot spawn child process: No such file or directory\n"
     ]
    },
    {
     "name": "stdout",
     "output_type": "stream",
     "text": [
      "79/79 [==============================] - 5s 31ms/step\n"
     ]
    }
   ],
   "source": [
    "import cv2\n",
    "import os\n",
    "import numpy as np\n",
    "\n",
    "\n",
    "\n",
    "# Define the path to the folder containing test images\n",
    "\n",
    "test_images_dir = '/home/invited/Desktop/ISBI2024/Test/images2'\n",
    "seg_test_dir= '/home/invited/Desktop/ISBI2024/ensemble/predictions/test/prediction_segmentation_0.2'\n",
    "un_test_dir='/home/invited/Desktop/ISBI2024/ensemble/Test/confidence'\n",
    "# Initialize empty lists to store data\n",
    "X_test_orig=[]\n",
    "X_test_seg_maps = []\n",
    "X_test_uncertainty_maps = []\n",
    "\n",
    "# Iterate over the test images\n",
    "for image_file in os.listdir(seg_test_dir):\n",
    "    seg_path = os.path.join(seg_test_dir, image_file)\n",
    "    # Load and preprocess the test image\n",
    "    seg_map_test = load_and_preprocess_seg_map(seg_path)\n",
    "    #Load and preprocess uncertainity maps\n",
    "    # Append data to the lists\n",
    "    X_test_seg_maps.append(seg_map_test )\n",
    "\n",
    "for image_file in os.listdir(un_test_dir):\n",
    "    uncertainity_map_path=  os.path.join(un_test_dir, image_file)\n",
    "    uncertainty_map_test = load_and_preprocess_uncertainty_map(uncertainity_map_path)\n",
    "    # Append data to the lists\n",
    "    X_test_uncertainty_maps.append(uncertainty_map_test)\n",
    "\n",
    "for image_file in os.listdir(test_images_dir ):\n",
    "    orig_path=  os.path.join(un_test_dir, image_file)\n",
    "    orig_test = load_and_preprocess_uncertainty_map( orig_path)\n",
    "       # Append data to the lists\n",
    "    X_test_orig.append(orig_test)\n",
    "\n",
    "\n",
    "\n",
    "\n",
    "# Convert lists to numpy arrays\n",
    "X_test_orig = np.array(X_test_orig)\n",
    "X_test_seg_maps = np.array(X_test_seg_maps)\n",
    "X_test_uncertainty_maps = np.array(X_test_uncertainty_maps)\n",
    "\n",
    "# Predict dice scores for the test data\n",
    "y_test_pred = model.predict([X_test_orig,X_test_seg_maps, X_test_uncertainty_maps])"
   ]
  },
  {
   "cell_type": "code",
   "execution_count": 6,
   "metadata": {
    "colab": {
     "base_uri": "https://localhost:8080/"
    },
    "executionInfo": {
     "elapsed": 1710,
     "status": "ok",
     "timestamp": 1699612455867,
     "user": {
      "displayName": "SIKHA OKKATH KRISHNANUNNI",
      "userId": "04435281155437892698"
     },
     "user_tz": -60
    },
    "id": "X8y9XhDCy8dx",
    "outputId": "abe5db9f-99cb-4dec-b581-93adfc8a15d3"
   },
   "outputs": [
    {
     "name": "stdout",
     "output_type": "stream",
     "text": [
      "            Image Name  Dice Score\n",
      "0     ISIC_0026137.png    0.797335\n",
      "1     ISIC_0033640.png    0.870792\n",
      "2     ISIC_0029335.png    0.790511\n",
      "3     ISIC_0027239.png    0.227069\n",
      "4     ISIC_0027466.png    0.797231\n",
      "...                ...         ...\n",
      "2498  ISIC_0028643.png    0.812780\n",
      "2499  ISIC_0024502.png    0.911489\n",
      "2500  ISIC_0025727.png    0.910532\n",
      "2501  ISIC_0030701.png    0.762740\n",
      "2502  ISIC_0024431.png    0.027530\n",
      "\n",
      "[2503 rows x 2 columns]\n"
     ]
    }
   ],
   "source": [
    "import pandas as pd\n",
    "\n",
    "# Define the file path\n",
    "file_path = \"/home/invited/Desktop/ISBI2024/ensemble/test_dice_scores.xlsx\"\n",
    "\n",
    "# Read the Excel file into a DataFrame\n",
    "df = pd.read_excel(file_path)\n",
    "\n",
    "# Display the DataFrame\n",
    "print(df)\n"
   ]
  },
  {
   "cell_type": "code",
   "execution_count": 7,
   "metadata": {
    "executionInfo": {
     "elapsed": 333,
     "status": "ok",
     "timestamp": 1699612549367,
     "user": {
      "displayName": "SIKHA OKKATH KRISHNANUNNI",
      "userId": "04435281155437892698"
     },
     "user_tz": -60
    },
    "id": "S2HHG8Hp9VN_"
   },
   "outputs": [],
   "source": [
    "import pandas as pd\n",
    "\n",
    "# Provided data\n",
    "data = df.iloc[:, 1].values\n",
    "\n",
    "# Create the DataFrame\n",
    "y_test_actual =data"
   ]
  },
  {
   "cell_type": "code",
   "execution_count": 8,
   "metadata": {
    "colab": {
     "base_uri": "https://localhost:8080/",
     "height": 564
    },
    "executionInfo": {
     "elapsed": 1262,
     "status": "ok",
     "timestamp": 1699612575512,
     "user": {
      "displayName": "SIKHA OKKATH KRISHNANUNNI",
      "userId": "04435281155437892698"
     },
     "user_tz": -60
    },
    "id": "NUGM9rA4M8h3",
    "outputId": "49ceda4d-579f-46ca-f716-35f9391b35cb"
   },
   "outputs": [
    {
     "data": {
      "image/png": "[encoded data removed]",
      "text/plain": [
       "<Figure size 800x600 with 1 Axes>"
      ]
     },
     "metadata": {},
     "output_type": "display_data"
    }
   ],
   "source": [
    "import matplotlib.pyplot as plt\n",
    "\n",
    "# Assuming you have y_pred and y_test_actual defined earlier\n",
    "\n",
    "# Extract the values from the Pandas DataFrame\n",
    "y_actual_values = y_test_actual\n",
    "\n",
    "# Create the scatter plot\n",
    "plt.figure(figsize=(8, 6))  # Adjust the figure size as needed\n",
    "plt.scatter(y_actual_values, y_test_pred, c='blue', marker='o', label='Scatter Plot')\n",
    "\n",
    "# Add labels and a 45-degree line for reference\n",
    "plt.xlabel('Actual Values')\n",
    "plt.ylabel('Predicted Values')\n",
    "plt.plot([min(y_actual_values), max(y_actual_values)], [min(y_actual_values), max(y_actual_values)], ls='--', c='red', label='45-Degree Line')\n",
    "\n",
    "# Add a legend\n",
    "plt.legend()\n",
    "\n",
    "# Set plot title\n",
    "plt.title('Scatter Plot of Predicted vs. Actual Values')\n",
    "\n",
    "# Show the plot\n",
    "plt.grid(True)\n",
    "plt.show()\n"
   ]
  },
  {
   "cell_type": "code",
   "execution_count": 9,
   "metadata": {
    "colab": {
     "base_uri": "https://localhost:8080/"
    },
    "executionInfo": {
     "elapsed": 321,
     "status": "ok",
     "timestamp": 1699612597399,
     "user": {
      "displayName": "SIKHA OKKATH KRISHNANUNNI",
      "userId": "04435281155437892698"
     },
     "user_tz": -60
    },
    "id": "afKxoJ_ocNFB",
    "outputId": "8cb3a72d-3818-46d3-a041-c168a7efc30b"
   },
   "outputs": [
    {
     "name": "stdout",
     "output_type": "stream",
     "text": [
      "R-squared (R2) Score: 0.8488381619460579\n"
     ]
    }
   ],
   "source": [
    "from sklearn.metrics import r2_score\n",
    "\n",
    "# Calculate the R-squared score\n",
    "r2 = r2_score(y_actual_values, y_test_pred)\n",
    "\n",
    "# Print the R-squared score\n",
    "print(\"R-squared (R2) Score:\", r2)"
   ]
  },
  {
   "cell_type": "code",
   "execution_count": 10,
   "metadata": {
    "id": "WOP7EmGbGgti"
   },
   "outputs": [],
   "source": [
    "# Assuming y_test_pred is a NumPy array\n",
    "y_test_pred = y_test_pred.reshape(-1)\n",
    "\n",
    "# Now both arrays should have the same shape\n",
    "data = np.array([y_actual_values, y_test_pred])\n",
    "\n",
    "# Calculate correlation coefficient matrix\n",
    "corr_matrix = np.corrcoef(data)"
   ]
  },
  {
   "cell_type": "code",
   "execution_count": 11,
   "metadata": {},
   "outputs": [
    {
     "name": "stdout",
     "output_type": "stream",
     "text": [
      "Pearson Correlation Coefficient: 0.9228275621098139\n",
      "P-value: 0.0\n"
     ]
    }
   ],
   "source": [
    "import numpy as np\n",
    "from scipy.stats import pearsonr\n",
    "\n",
    "# Assuming y_test_pred is a NumPy array\n",
    "y_test_pred = y_test_pred.reshape(-1)\n",
    "\n",
    "# Calculate Pearson correlation coefficient\n",
    "correlation_coefficient, p_value = pearsonr(y_actual_values, y_test_pred)\n",
    "\n",
    "print(\"Pearson Correlation Coefficient:\", correlation_coefficient)\n",
    "print(\"P-value:\", p_value)"
   ]
  },
  {
   "cell_type": "code",
   "execution_count": 12,
   "metadata": {},
   "outputs": [
    {
     "name": "stdout",
     "output_type": "stream",
     "text": [
      "Spearman Correlation Coefficient: 0.8557279096958716\n",
      "P-value (Spearman): 0.0\n"
     ]
    }
   ],
   "source": [
    "from scipy.stats import spearmanr\n",
    "\n",
    "# Calculate Spearman correlation coefficient\n",
    "spearman_coefficient, p_value_spearman = spearmanr(y_actual_values, y_test_pred)\n",
    "\n",
    "print(\"Spearman Correlation Coefficient:\", spearman_coefficient)\n",
    "print(\"P-value (Spearman):\", p_value_spearman)"
   ]
  },
  {
   "cell_type": "code",
   "execution_count": null,
   "metadata": {},
   "outputs": [],
   "source": []
  }
 ],
 "metadata": {
  "accelerator": "GPU",
  "colab": {
   "gpuType": "T4",
   "provenance": []
  },
  "kernelspec": {
   "display_name": "Python 3 (ipykernel)",
   "language": "python",
   "name": "python3"
  },
  "language_info": {
   "codemirror_mode": {
    "name": "ipython",
    "version": 3
   },
   "file_extension": ".py",
   "mimetype": "text/x-python",
   "name": "python",
   "nbconvert_exporter": "python",
   "pygments_lexer": "ipython3",
   "version": "3.10.13"
  }
 },
 "nbformat": 4,
 "nbformat_minor": 1
}
